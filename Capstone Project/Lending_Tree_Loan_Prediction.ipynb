{
 "cells": [
  {
   "cell_type": "code",
   "execution_count": 1,
   "metadata": {
    "collapsed": true
   },
   "outputs": [],
   "source": [
    "import pandas as pd\n",
    "import numpy as np\n",
    "import matplotlib.pyplot as plt\n",
    "import seaborn as sns\n",
    "%matplotlib inline"
   ]
  },
  {
   "cell_type": "markdown",
   "metadata": {},
   "source": [
    "Let's start by reading the data"
   ]
  },
  {
   "cell_type": "code",
   "execution_count": 2,
   "metadata": {
    "collapsed": false
   },
   "outputs": [],
   "source": [
    "loan_data = pd.read_csv('LoanStats3a.csv', low_memory=False)"
   ]
  },
  {
   "cell_type": "code",
   "execution_count": 3,
   "metadata": {
    "collapsed": false
   },
   "outputs": [
    {
     "name": "stdout",
     "output_type": "stream",
     "text": [
      "<class 'pandas.core.frame.DataFrame'>\n",
      "RangeIndex: 42542 entries, 0 to 42541\n",
      "Columns: 111 entries, id to total_il_high_credit_limit\n",
      "dtypes: float64(86), object(25)\n",
      "memory usage: 36.0+ MB\n"
     ]
    }
   ],
   "source": [
    "loan_data.info()"
   ]
  },
  {
   "cell_type": "markdown",
   "metadata": {},
   "source": [
    "Count the number of columns with only 1 or 0 values. "
   ]
  },
  {
   "cell_type": "code",
   "execution_count": 6,
   "metadata": {
    "collapsed": false
   },
   "outputs": [
    {
     "name": "stdout",
     "output_type": "stream",
     "text": [
      "6\n"
     ]
    }
   ],
   "source": [
    "count = 0\n",
    "for column in loan_data:\n",
    "    if(loan_data[column].nunique() < 2):\n",
    "        count +=1\n",
    "print count"
   ]
  },
  {
   "cell_type": "markdown",
   "metadata": {},
   "source": [
    "Drop all the columns with less than 2 unique values."
   ]
  },
  {
   "cell_type": "code",
   "execution_count": 5,
   "metadata": {
    "collapsed": false
   },
   "outputs": [],
   "source": [
    "loan_data = loan_data.dropna(thresh=2, axis=1)"
   ]
  },
  {
   "cell_type": "code",
   "execution_count": 7,
   "metadata": {
    "collapsed": false
   },
   "outputs": [
    {
     "name": "stdout",
     "output_type": "stream",
     "text": [
      "<class 'pandas.core.frame.DataFrame'>\n",
      "RangeIndex: 42542 entries, 0 to 42541\n",
      "Data columns (total 57 columns):\n",
      "id                            42538 non-null object\n",
      "member_id                     42535 non-null float64\n",
      "loan_amnt                     42535 non-null float64\n",
      "funded_amnt                   42535 non-null float64\n",
      "funded_amnt_inv               42535 non-null float64\n",
      "term                          42535 non-null object\n",
      "int_rate                      42535 non-null object\n",
      "installment                   42535 non-null float64\n",
      "grade                         42535 non-null object\n",
      "sub_grade                     42535 non-null object\n",
      "emp_title                     39911 non-null object\n",
      "emp_length                    42535 non-null object\n",
      "home_ownership                42535 non-null object\n",
      "annual_inc                    42531 non-null float64\n",
      "verification_status           42535 non-null object\n",
      "issue_d                       42535 non-null object\n",
      "loan_status                   42535 non-null object\n",
      "pymnt_plan                    42535 non-null object\n",
      "url                           42535 non-null object\n",
      "desc                          29243 non-null object\n",
      "purpose                       42535 non-null object\n",
      "title                         42523 non-null object\n",
      "zip_code                      42535 non-null object\n",
      "addr_state                    42535 non-null object\n",
      "dti                           42535 non-null float64\n",
      "delinq_2yrs                   42506 non-null float64\n",
      "earliest_cr_line              42506 non-null object\n",
      "inq_last_6mths                42506 non-null float64\n",
      "mths_since_last_delinq        15609 non-null float64\n",
      "mths_since_last_record        3651 non-null float64\n",
      "open_acc                      42506 non-null float64\n",
      "pub_rec                       42506 non-null float64\n",
      "revol_bal                     42535 non-null float64\n",
      "revol_util                    42445 non-null object\n",
      "total_acc                     42506 non-null float64\n",
      "initial_list_status           42535 non-null object\n",
      "out_prncp                     42535 non-null float64\n",
      "out_prncp_inv                 42535 non-null float64\n",
      "total_pymnt                   42535 non-null float64\n",
      "total_pymnt_inv               42535 non-null float64\n",
      "total_rec_prncp               42535 non-null float64\n",
      "total_rec_int                 42535 non-null float64\n",
      "total_rec_late_fee            42535 non-null float64\n",
      "recoveries                    42535 non-null float64\n",
      "collection_recovery_fee       42535 non-null float64\n",
      "last_pymnt_d                  42452 non-null object\n",
      "last_pymnt_amnt               42535 non-null float64\n",
      "next_pymnt_d                  2765 non-null object\n",
      "last_credit_pull_d            42531 non-null object\n",
      "collections_12_mths_ex_med    42390 non-null float64\n",
      "policy_code                   42535 non-null float64\n",
      "application_type              42535 non-null object\n",
      "acc_now_delinq                42506 non-null float64\n",
      "chargeoff_within_12_mths      42390 non-null float64\n",
      "delinq_amnt                   42506 non-null float64\n",
      "pub_rec_bankruptcies          41170 non-null float64\n",
      "tax_liens                     42430 non-null float64\n",
      "dtypes: float64(32), object(25)\n",
      "memory usage: 18.5+ MB\n"
     ]
    }
   ],
   "source": [
    "loan_data.info()"
   ]
  },
  {
   "cell_type": "code",
   "execution_count": 8,
   "metadata": {
    "collapsed": false
   },
   "outputs": [
    {
     "data": {
      "text/plain": [
       "array(['Fully Paid', 'Charged Off', 'Late (31-120 days)', 'Current',\n",
       "       'Late (16-30 days)', 'In Grace Period', 'Default', nan,\n",
       "       'Does not meet the credit policy. Status:Fully Paid',\n",
       "       'Does not meet the credit policy. Status:Charged Off'], dtype=object)"
      ]
     },
     "execution_count": 8,
     "metadata": {},
     "output_type": "execute_result"
    }
   ],
   "source": [
    "loan_data['loan_status'].unique()"
   ]
  },
  {
   "cell_type": "code",
   "execution_count": 9,
   "metadata": {
    "collapsed": false
   },
   "outputs": [
    {
     "data": {
      "text/plain": [
       "Fully Paid                                             34108\n",
       "Charged Off                                             5662\n",
       "Does not meet the credit policy. Status:Fully Paid      1988\n",
       "Does not meet the credit policy. Status:Charged Off      761\n",
       "Late (31-120 days)                                        10\n",
       "Current                                                    3\n",
       "In Grace Period                                            1\n",
       "Late (16-30 days)                                          1\n",
       "Default                                                    1\n",
       "Name: loan_status, dtype: int64"
      ]
     },
     "execution_count": 9,
     "metadata": {},
     "output_type": "execute_result"
    }
   ],
   "source": [
    "loan_data['loan_status'].value_counts()"
   ]
  },
  {
   "cell_type": "markdown",
   "metadata": {},
   "source": [
    "I do not have a lot of context around the loan data so I erred on the side of including more data. I selected the following columns after going through all the columns.\n",
    "loan_amnt, funded_amnt, funded_amnt_inv, term, int_rate, installment, annual_inc, verification_status, loan_status, dti, delinq_2yrs, inq_last_6mths, open_acc, revol_util, total_pymnt_inv, pub_rec_bankruptcies\n"
   ]
  },
  {
   "cell_type": "code",
   "execution_count": 13,
   "metadata": {
    "collapsed": false
   },
   "outputs": [],
   "source": [
    "loan_data = loan_data[['loan_amnt', 'funded_amnt', 'funded_amnt_inv', 'term', 'int_rate', 'installment', 'annual_inc', 'verification_status', 'loan_status', 'dti', 'delinq_2yrs', 'inq_last_6mths', 'open_acc', 'revol_util', 'total_pymnt_inv', 'pub_rec_bankruptcies']]"
   ]
  },
  {
   "cell_type": "code",
   "execution_count": 14,
   "metadata": {
    "collapsed": false
   },
   "outputs": [
    {
     "data": {
      "text/plain": [
       "array(['Fully Paid', 'Charged Off', 'Late (31-120 days)', 'Current',\n",
       "       'Late (16-30 days)', 'In Grace Period', 'Default', nan,\n",
       "       'Does not meet the credit policy. Status:Fully Paid',\n",
       "       'Does not meet the credit policy. Status:Charged Off'], dtype=object)"
      ]
     },
     "execution_count": 14,
     "metadata": {},
     "output_type": "execute_result"
    }
   ],
   "source": [
    "loan_data['loan_status'].unique()"
   ]
  },
  {
   "cell_type": "markdown",
   "metadata": {},
   "source": [
    "We are interested in either fully paid loans or the defaulted loans. Selecting rows with only those values."
   ]
  },
  {
   "cell_type": "code",
   "execution_count": 15,
   "metadata": {
    "collapsed": false
   },
   "outputs": [],
   "source": [
    "loan_data = loan_data[(loan_data['loan_status'] == 'Fully Paid') | (loan_data['loan_status'] == 'Charged Off')]"
   ]
  },
  {
   "cell_type": "markdown",
   "metadata": {},
   "source": [
    "Dropping all the empty rows. "
   ]
  },
  {
   "cell_type": "code",
   "execution_count": 16,
   "metadata": {
    "collapsed": false
   },
   "outputs": [],
   "source": [
    "loan_data = loan_data.dropna()"
   ]
  },
  {
   "cell_type": "code",
   "execution_count": 17,
   "metadata": {
    "collapsed": false,
    "scrolled": true
   },
   "outputs": [
    {
     "name": "stdout",
     "output_type": "stream",
     "text": [
      "<class 'pandas.core.frame.DataFrame'>\n",
      "Int64Index: 39023 entries, 0 to 39749\n",
      "Data columns (total 16 columns):\n",
      "loan_amnt               39023 non-null float64\n",
      "funded_amnt             39023 non-null float64\n",
      "funded_amnt_inv         39023 non-null float64\n",
      "term                    39023 non-null object\n",
      "int_rate                39023 non-null object\n",
      "installment             39023 non-null float64\n",
      "annual_inc              39023 non-null float64\n",
      "verification_status     39023 non-null object\n",
      "loan_status             39023 non-null object\n",
      "dti                     39023 non-null float64\n",
      "delinq_2yrs             39023 non-null float64\n",
      "inq_last_6mths          39023 non-null float64\n",
      "open_acc                39023 non-null float64\n",
      "revol_util              39023 non-null object\n",
      "total_pymnt_inv         39023 non-null float64\n",
      "pub_rec_bankruptcies    39023 non-null float64\n",
      "dtypes: float64(11), object(5)\n",
      "memory usage: 5.1+ MB\n"
     ]
    }
   ],
   "source": [
    "loan_data.info()"
   ]
  },
  {
   "cell_type": "code",
   "execution_count": 24,
   "metadata": {
    "collapsed": true
   },
   "outputs": [],
   "source": [
    "loan_data['term'] = loan_data['term'].apply(lambda x: float(x.split()[0]))"
   ]
  },
  {
   "cell_type": "code",
   "execution_count": 25,
   "metadata": {
    "collapsed": true
   },
   "outputs": [],
   "source": [
    "loan_data['int_rate'] = loan_data['int_rate'].apply(lambda x: float(x[:-1]))"
   ]
  },
  {
   "cell_type": "code",
   "execution_count": 26,
   "metadata": {
    "collapsed": true
   },
   "outputs": [],
   "source": [
    "loan_data['revol_util'] = loan_data['revol_util'].apply(lambda x: float(x[:-1]))"
   ]
  },
  {
   "cell_type": "code",
   "execution_count": 27,
   "metadata": {
    "collapsed": false
   },
   "outputs": [
    {
     "data": {
      "text/plain": [
       "<matplotlib.axes._subplots.AxesSubplot at 0x105c0160>"
      ]
     },
     "execution_count": 27,
     "metadata": {},
     "output_type": "execute_result"
    },
    {
     "data": {
      "image/png": "[encoded data removed]",
      "text/plain": [
       "<matplotlib.figure.Figure at 0x18105eb8>"
      ]
     },
     "metadata": {},
     "output_type": "display_data"
    }
   ],
   "source": [
    "sns.countplot(x='loan_status', data=loan_data)"
   ]
  },
  {
   "cell_type": "markdown",
   "metadata": {},
   "source": [
    "Let's do a lmplot across multiple attributes to see if there is a relationship between different attributes. "
   ]
  },
  {
   "cell_type": "code",
   "execution_count": 29,
   "metadata": {
    "collapsed": false
   },
   "outputs": [
    {
     "data": {
      "text/plain": [
       "<seaborn.axisgrid.JointGrid at 0x175ac0b8>"
      ]
     },
     "execution_count": 29,
     "metadata": {},
     "output_type": "execute_result"
    },
    {
     "data": {
      "image/png": "[encoded data removed]",
      "text/plain": [
       "<matplotlib.figure.Figure at 0x175acdd8>"
      ]
     },
     "metadata": {},
     "output_type": "display_data"
    }
   ],
   "source": [
    "sns.jointplot(x='delinq_2yrs',y='int_rate',data=loan_data)"
   ]
  },
  {
   "cell_type": "code",
   "execution_count": 37,
   "metadata": {
    "collapsed": false,
    "scrolled": true
   },
   "outputs": [
    {
     "data": {
      "text/plain": [
       "<seaborn.axisgrid.JointGrid at 0xd623160>"
      ]
     },
     "execution_count": 37,
     "metadata": {},
     "output_type": "execute_result"
    },
    {
     "data": {
      "image/png": "[encoded data removed]",
      "text/plain": [
       "<matplotlib.figure.Figure at 0xd6230b8>"
      ]
     },
     "metadata": {},
     "output_type": "display_data"
    }
   ],
   "source": [
    "sns.jointplot(x='revol_util',y='int_rate',data=loan_data)"
   ]
  },
  {
   "cell_type": "code",
   "execution_count": 34,
   "metadata": {
    "collapsed": false
   },
   "outputs": [
    {
     "data": {
      "text/plain": [
       "0     36 months\n",
       "1     60 months\n",
       "2     36 months\n",
       "3     36 months\n",
       "4     60 months\n",
       "Name: term, dtype: object"
      ]
     },
     "execution_count": 34,
     "metadata": {},
     "output_type": "execute_result"
    }
   ],
   "source": [
    "loan_data['term'].head()"
   ]
  },
  {
   "cell_type": "code",
   "execution_count": 40,
   "metadata": {
    "collapsed": false
   },
   "outputs": [
    {
     "data": {
      "text/plain": [
       "array(['Verified', 'Source Verified', 'Not Verified'], dtype=object)"
      ]
     },
     "execution_count": 40,
     "metadata": {},
     "output_type": "execute_result"
    }
   ],
   "source": [
    "loan_data['verification_status'].unique()\n"
   ]
  },
  {
   "cell_type": "markdown",
   "metadata": {},
   "source": [
    "verification_status and loan_status are categorical values. We'll convert them to numerical values using one hot encoding. "
   ]
  },
  {
   "cell_type": "code",
   "execution_count": 33,
   "metadata": {
    "collapsed": false
   },
   "outputs": [],
   "source": [
    "verification_status = pd.get_dummies(loan_data['verification_status'], drop_first=True)\n",
    "loan_status = pd.get_dummies(loan_data['loan_status'], drop_first=True)"
   ]
  },
  {
   "cell_type": "code",
   "execution_count": 34,
   "metadata": {
    "collapsed": false
   },
   "outputs": [],
   "source": [
    "loan_data.drop(['verification_status', 'loan_status'], axis = 1, inplace=True)"
   ]
  },
  {
   "cell_type": "code",
   "execution_count": 35,
   "metadata": {
    "collapsed": true
   },
   "outputs": [],
   "source": [
    "loan_data = pd.concat([loan_data, verification_status, loan_status], axis =1)"
   ]
  },
  {
   "cell_type": "code",
   "execution_count": 36,
   "metadata": {
    "collapsed": false
   },
   "outputs": [
    {
     "data": {
      "text/html": [
       "<div>\n",
       "<table border=\"1\" class=\"dataframe\">\n",
       "  <thead>\n",
       "    <tr style=\"text-align: right;\">\n",
       "      <th></th>\n",
       "      <th>loan_amnt</th>\n",
       "      <th>funded_amnt</th>\n",
       "      <th>funded_amnt_inv</th>\n",
       "      <th>term</th>\n",
       "      <th>int_rate</th>\n",
       "      <th>installment</th>\n",
       "      <th>annual_inc</th>\n",
       "      <th>dti</th>\n",
       "      <th>delinq_2yrs</th>\n",
       "      <th>inq_last_6mths</th>\n",
       "      <th>open_acc</th>\n",
       "      <th>revol_util</th>\n",
       "      <th>total_pymnt_inv</th>\n",
       "      <th>pub_rec_bankruptcies</th>\n",
       "      <th>Source Verified</th>\n",
       "      <th>Verified</th>\n",
       "      <th>Fully Paid</th>\n",
       "    </tr>\n",
       "  </thead>\n",
       "  <tbody>\n",
       "    <tr>\n",
       "      <th>0</th>\n",
       "      <td>5000.0</td>\n",
       "      <td>5000.0</td>\n",
       "      <td>4975.0</td>\n",
       "      <td>36.0</td>\n",
       "      <td>10.65</td>\n",
       "      <td>162.87</td>\n",
       "      <td>24000.0</td>\n",
       "      <td>27.65</td>\n",
       "      <td>0.0</td>\n",
       "      <td>1.0</td>\n",
       "      <td>3.0</td>\n",
       "      <td>83.7</td>\n",
       "      <td>5833.84</td>\n",
       "      <td>0.0</td>\n",
       "      <td>0.0</td>\n",
       "      <td>1.0</td>\n",
       "      <td>1.0</td>\n",
       "    </tr>\n",
       "    <tr>\n",
       "      <th>1</th>\n",
       "      <td>2500.0</td>\n",
       "      <td>2500.0</td>\n",
       "      <td>2500.0</td>\n",
       "      <td>60.0</td>\n",
       "      <td>15.27</td>\n",
       "      <td>59.83</td>\n",
       "      <td>30000.0</td>\n",
       "      <td>1.00</td>\n",
       "      <td>0.0</td>\n",
       "      <td>5.0</td>\n",
       "      <td>3.0</td>\n",
       "      <td>9.4</td>\n",
       "      <td>1014.53</td>\n",
       "      <td>0.0</td>\n",
       "      <td>1.0</td>\n",
       "      <td>0.0</td>\n",
       "      <td>0.0</td>\n",
       "    </tr>\n",
       "    <tr>\n",
       "      <th>2</th>\n",
       "      <td>2400.0</td>\n",
       "      <td>2400.0</td>\n",
       "      <td>2400.0</td>\n",
       "      <td>36.0</td>\n",
       "      <td>15.96</td>\n",
       "      <td>84.33</td>\n",
       "      <td>12252.0</td>\n",
       "      <td>8.72</td>\n",
       "      <td>0.0</td>\n",
       "      <td>2.0</td>\n",
       "      <td>2.0</td>\n",
       "      <td>98.5</td>\n",
       "      <td>3005.67</td>\n",
       "      <td>0.0</td>\n",
       "      <td>0.0</td>\n",
       "      <td>0.0</td>\n",
       "      <td>1.0</td>\n",
       "    </tr>\n",
       "    <tr>\n",
       "      <th>3</th>\n",
       "      <td>10000.0</td>\n",
       "      <td>10000.0</td>\n",
       "      <td>10000.0</td>\n",
       "      <td>36.0</td>\n",
       "      <td>13.49</td>\n",
       "      <td>339.31</td>\n",
       "      <td>49200.0</td>\n",
       "      <td>20.00</td>\n",
       "      <td>0.0</td>\n",
       "      <td>1.0</td>\n",
       "      <td>10.0</td>\n",
       "      <td>21.0</td>\n",
       "      <td>12231.89</td>\n",
       "      <td>0.0</td>\n",
       "      <td>1.0</td>\n",
       "      <td>0.0</td>\n",
       "      <td>1.0</td>\n",
       "    </tr>\n",
       "    <tr>\n",
       "      <th>4</th>\n",
       "      <td>3000.0</td>\n",
       "      <td>3000.0</td>\n",
       "      <td>3000.0</td>\n",
       "      <td>60.0</td>\n",
       "      <td>12.69</td>\n",
       "      <td>67.79</td>\n",
       "      <td>80000.0</td>\n",
       "      <td>17.94</td>\n",
       "      <td>0.0</td>\n",
       "      <td>0.0</td>\n",
       "      <td>15.0</td>\n",
       "      <td>53.9</td>\n",
       "      <td>4066.91</td>\n",
       "      <td>0.0</td>\n",
       "      <td>1.0</td>\n",
       "      <td>0.0</td>\n",
       "      <td>1.0</td>\n",
       "    </tr>\n",
       "    <tr>\n",
       "      <th>5</th>\n",
       "      <td>5000.0</td>\n",
       "      <td>5000.0</td>\n",
       "      <td>5000.0</td>\n",
       "      <td>36.0</td>\n",
       "      <td>7.90</td>\n",
       "      <td>156.46</td>\n",
       "      <td>36000.0</td>\n",
       "      <td>11.20</td>\n",
       "      <td>0.0</td>\n",
       "      <td>3.0</td>\n",
       "      <td>9.0</td>\n",
       "      <td>28.3</td>\n",
       "      <td>5632.21</td>\n",
       "      <td>0.0</td>\n",
       "      <td>1.0</td>\n",
       "      <td>0.0</td>\n",
       "      <td>1.0</td>\n",
       "    </tr>\n",
       "    <tr>\n",
       "      <th>6</th>\n",
       "      <td>7000.0</td>\n",
       "      <td>7000.0</td>\n",
       "      <td>7000.0</td>\n",
       "      <td>60.0</td>\n",
       "      <td>15.96</td>\n",
       "      <td>170.08</td>\n",
       "      <td>47004.0</td>\n",
       "      <td>23.51</td>\n",
       "      <td>0.0</td>\n",
       "      <td>1.0</td>\n",
       "      <td>7.0</td>\n",
       "      <td>85.6</td>\n",
       "      <td>10137.84</td>\n",
       "      <td>0.0</td>\n",
       "      <td>0.0</td>\n",
       "      <td>0.0</td>\n",
       "      <td>1.0</td>\n",
       "    </tr>\n",
       "    <tr>\n",
       "      <th>7</th>\n",
       "      <td>3000.0</td>\n",
       "      <td>3000.0</td>\n",
       "      <td>3000.0</td>\n",
       "      <td>36.0</td>\n",
       "      <td>18.64</td>\n",
       "      <td>109.43</td>\n",
       "      <td>48000.0</td>\n",
       "      <td>5.35</td>\n",
       "      <td>0.0</td>\n",
       "      <td>2.0</td>\n",
       "      <td>4.0</td>\n",
       "      <td>87.5</td>\n",
       "      <td>3939.14</td>\n",
       "      <td>0.0</td>\n",
       "      <td>1.0</td>\n",
       "      <td>0.0</td>\n",
       "      <td>1.0</td>\n",
       "    </tr>\n",
       "    <tr>\n",
       "      <th>8</th>\n",
       "      <td>5600.0</td>\n",
       "      <td>5600.0</td>\n",
       "      <td>5600.0</td>\n",
       "      <td>60.0</td>\n",
       "      <td>21.28</td>\n",
       "      <td>152.39</td>\n",
       "      <td>40000.0</td>\n",
       "      <td>5.55</td>\n",
       "      <td>0.0</td>\n",
       "      <td>2.0</td>\n",
       "      <td>11.0</td>\n",
       "      <td>32.6</td>\n",
       "      <td>647.50</td>\n",
       "      <td>0.0</td>\n",
       "      <td>1.0</td>\n",
       "      <td>0.0</td>\n",
       "      <td>0.0</td>\n",
       "    </tr>\n",
       "    <tr>\n",
       "      <th>9</th>\n",
       "      <td>5375.0</td>\n",
       "      <td>5375.0</td>\n",
       "      <td>5350.0</td>\n",
       "      <td>60.0</td>\n",
       "      <td>12.69</td>\n",
       "      <td>121.45</td>\n",
       "      <td>15000.0</td>\n",
       "      <td>18.08</td>\n",
       "      <td>0.0</td>\n",
       "      <td>0.0</td>\n",
       "      <td>2.0</td>\n",
       "      <td>36.5</td>\n",
       "      <td>1477.70</td>\n",
       "      <td>0.0</td>\n",
       "      <td>0.0</td>\n",
       "      <td>1.0</td>\n",
       "      <td>0.0</td>\n",
       "    </tr>\n",
       "  </tbody>\n",
       "</table>\n",
       "</div>"
      ],
      "text/plain": [
       "   loan_amnt  funded_amnt  funded_amnt_inv  term  int_rate  installment  \\\n",
       "0     5000.0       5000.0           4975.0  36.0     10.65       162.87   \n",
       "1     2500.0       2500.0           2500.0  60.0     15.27        59.83   \n",
       "2     2400.0       2400.0           2400.0  36.0     15.96        84.33   \n",
       "3    10000.0      10000.0          10000.0  36.0     13.49       339.31   \n",
       "4     3000.0       3000.0           3000.0  60.0     12.69        67.79   \n",
       "5     5000.0       5000.0           5000.0  36.0      7.90       156.46   \n",
       "6     7000.0       7000.0           7000.0  60.0     15.96       170.08   \n",
       "7     3000.0       3000.0           3000.0  36.0     18.64       109.43   \n",
       "8     5600.0       5600.0           5600.0  60.0     21.28       152.39   \n",
       "9     5375.0       5375.0           5350.0  60.0     12.69       121.45   \n",
       "\n",
       "   annual_inc    dti  delinq_2yrs  inq_last_6mths  open_acc  revol_util  \\\n",
       "0     24000.0  27.65          0.0             1.0       3.0        83.7   \n",
       "1     30000.0   1.00          0.0             5.0       3.0         9.4   \n",
       "2     12252.0   8.72          0.0             2.0       2.0        98.5   \n",
       "3     49200.0  20.00          0.0             1.0      10.0        21.0   \n",
       "4     80000.0  17.94          0.0             0.0      15.0        53.9   \n",
       "5     36000.0  11.20          0.0             3.0       9.0        28.3   \n",
       "6     47004.0  23.51          0.0             1.0       7.0        85.6   \n",
       "7     48000.0   5.35          0.0             2.0       4.0        87.5   \n",
       "8     40000.0   5.55          0.0             2.0      11.0        32.6   \n",
       "9     15000.0  18.08          0.0             0.0       2.0        36.5   \n",
       "\n",
       "   total_pymnt_inv  pub_rec_bankruptcies  Source Verified  Verified  \\\n",
       "0          5833.84                   0.0              0.0       1.0   \n",
       "1          1014.53                   0.0              1.0       0.0   \n",
       "2          3005.67                   0.0              0.0       0.0   \n",
       "3         12231.89                   0.0              1.0       0.0   \n",
       "4          4066.91                   0.0              1.0       0.0   \n",
       "5          5632.21                   0.0              1.0       0.0   \n",
       "6         10137.84                   0.0              0.0       0.0   \n",
       "7          3939.14                   0.0              1.0       0.0   \n",
       "8           647.50                   0.0              1.0       0.0   \n",
       "9          1477.70                   0.0              0.0       1.0   \n",
       "\n",
       "   Fully Paid  \n",
       "0         1.0  \n",
       "1         0.0  \n",
       "2         1.0  \n",
       "3         1.0  \n",
       "4         1.0  \n",
       "5         1.0  \n",
       "6         1.0  \n",
       "7         1.0  \n",
       "8         0.0  \n",
       "9         0.0  "
      ]
     },
     "execution_count": 36,
     "metadata": {},
     "output_type": "execute_result"
    }
   ],
   "source": [
    "loan_data.head(10)"
   ]
  },
  {
   "cell_type": "code",
   "execution_count": 39,
   "metadata": {
    "collapsed": false
   },
   "outputs": [
    {
     "data": {
      "text/plain": [
       "<seaborn.axisgrid.FacetGrid at 0xfb23fd0>"
      ]
     },
     "execution_count": 39,
     "metadata": {},
     "output_type": "execute_result"
    },
    {
     "data": {
      "image/png": "[encoded data removed]",
      "text/plain": [
       "<matplotlib.figure.Figure at 0xfb3b400>"
      ]
     },
     "metadata": {},
     "output_type": "display_data"
    }
   ],
   "source": [
    "sns.lmplot(x='revol_util',y='int_rate', data=loan_data, col='Fully Paid')"
   ]
  },
  {
   "cell_type": "code",
   "execution_count": 40,
   "metadata": {
    "collapsed": false
   },
   "outputs": [
    {
     "name": "stdout",
     "output_type": "stream",
     "text": [
      "<class 'pandas.core.frame.DataFrame'>\n",
      "Int64Index: 39023 entries, 0 to 39749\n",
      "Data columns (total 17 columns):\n",
      "loan_amnt               39023 non-null float64\n",
      "funded_amnt             39023 non-null float64\n",
      "funded_amnt_inv         39023 non-null float64\n",
      "term                    39023 non-null float64\n",
      "int_rate                39023 non-null float64\n",
      "installment             39023 non-null float64\n",
      "annual_inc              39023 non-null float64\n",
      "dti                     39023 non-null float64\n",
      "delinq_2yrs             39023 non-null float64\n",
      "inq_last_6mths          39023 non-null float64\n",
      "open_acc                39023 non-null float64\n",
      "revol_util              39023 non-null float64\n",
      "total_pymnt_inv         39023 non-null float64\n",
      "pub_rec_bankruptcies    39023 non-null float64\n",
      "Source Verified         39023 non-null float64\n",
      "Verified                39023 non-null float64\n",
      "Fully Paid              39023 non-null float64\n",
      "dtypes: float64(17)\n",
      "memory usage: 5.4 MB\n"
     ]
    }
   ],
   "source": [
    "loan_data.info()"
   ]
  },
  {
   "cell_type": "code",
   "execution_count": 41,
   "metadata": {
    "collapsed": false
   },
   "outputs": [
    {
     "data": {
      "text/html": [
       "<div>\n",
       "<table border=\"1\" class=\"dataframe\">\n",
       "  <thead>\n",
       "    <tr style=\"text-align: right;\">\n",
       "      <th></th>\n",
       "      <th>loan_amnt</th>\n",
       "      <th>funded_amnt</th>\n",
       "      <th>funded_amnt_inv</th>\n",
       "      <th>term</th>\n",
       "      <th>int_rate</th>\n",
       "      <th>installment</th>\n",
       "      <th>annual_inc</th>\n",
       "      <th>dti</th>\n",
       "      <th>delinq_2yrs</th>\n",
       "      <th>inq_last_6mths</th>\n",
       "      <th>open_acc</th>\n",
       "      <th>revol_util</th>\n",
       "      <th>total_pymnt_inv</th>\n",
       "      <th>pub_rec_bankruptcies</th>\n",
       "      <th>Source Verified</th>\n",
       "      <th>Verified</th>\n",
       "      <th>Fully Paid</th>\n",
       "    </tr>\n",
       "  </thead>\n",
       "  <tbody>\n",
       "    <tr>\n",
       "      <th>count</th>\n",
       "      <td>39023.000000</td>\n",
       "      <td>39023.000000</td>\n",
       "      <td>39023.000000</td>\n",
       "      <td>39023.000000</td>\n",
       "      <td>39023.000000</td>\n",
       "      <td>39023.000000</td>\n",
       "      <td>3.902300e+04</td>\n",
       "      <td>39023.000000</td>\n",
       "      <td>39023.00000</td>\n",
       "      <td>39023.000000</td>\n",
       "      <td>39023.000000</td>\n",
       "      <td>39023.000000</td>\n",
       "      <td>39023.000000</td>\n",
       "      <td>39023.000000</td>\n",
       "      <td>39023.000000</td>\n",
       "      <td>39023.000000</td>\n",
       "      <td>39023.000000</td>\n",
       "    </tr>\n",
       "    <tr>\n",
       "      <th>mean</th>\n",
       "      <td>11259.748097</td>\n",
       "      <td>10984.679548</td>\n",
       "      <td>10559.036469</td>\n",
       "      <td>42.562899</td>\n",
       "      <td>12.046209</td>\n",
       "      <td>324.956089</td>\n",
       "      <td>6.899929e+04</td>\n",
       "      <td>13.366081</td>\n",
       "      <td>0.14553</td>\n",
       "      <td>0.866540</td>\n",
       "      <td>9.298132</td>\n",
       "      <td>48.973526</td>\n",
       "      <td>11811.405997</td>\n",
       "      <td>0.043308</td>\n",
       "      <td>0.256234</td>\n",
       "      <td>0.328652</td>\n",
       "      <td>0.858340</td>\n",
       "    </tr>\n",
       "    <tr>\n",
       "      <th>std</th>\n",
       "      <td>7478.951411</td>\n",
       "      <td>7206.436232</td>\n",
       "      <td>7110.053430</td>\n",
       "      <td>10.697704</td>\n",
       "      <td>3.744015</td>\n",
       "      <td>208.910806</td>\n",
       "      <td>6.312983e+04</td>\n",
       "      <td>6.668654</td>\n",
       "      <td>0.49014</td>\n",
       "      <td>1.067322</td>\n",
       "      <td>4.380918</td>\n",
       "      <td>28.310206</td>\n",
       "      <td>9056.647014</td>\n",
       "      <td>0.204431</td>\n",
       "      <td>0.436558</td>\n",
       "      <td>0.469729</td>\n",
       "      <td>0.348706</td>\n",
       "    </tr>\n",
       "    <tr>\n",
       "      <th>min</th>\n",
       "      <td>500.000000</td>\n",
       "      <td>500.000000</td>\n",
       "      <td>0.000000</td>\n",
       "      <td>36.000000</td>\n",
       "      <td>5.420000</td>\n",
       "      <td>16.080000</td>\n",
       "      <td>4.000000e+03</td>\n",
       "      <td>0.000000</td>\n",
       "      <td>0.00000</td>\n",
       "      <td>0.000000</td>\n",
       "      <td>2.000000</td>\n",
       "      <td>0.000000</td>\n",
       "      <td>0.000000</td>\n",
       "      <td>0.000000</td>\n",
       "      <td>0.000000</td>\n",
       "      <td>0.000000</td>\n",
       "      <td>0.000000</td>\n",
       "    </tr>\n",
       "    <tr>\n",
       "      <th>25%</th>\n",
       "      <td>5500.000000</td>\n",
       "      <td>5462.500000</td>\n",
       "      <td>5000.000000</td>\n",
       "      <td>36.000000</td>\n",
       "      <td>9.250000</td>\n",
       "      <td>167.340000</td>\n",
       "      <td>4.080000e+04</td>\n",
       "      <td>8.240000</td>\n",
       "      <td>0.00000</td>\n",
       "      <td>0.000000</td>\n",
       "      <td>6.000000</td>\n",
       "      <td>25.550000</td>\n",
       "      <td>5313.715000</td>\n",
       "      <td>0.000000</td>\n",
       "      <td>0.000000</td>\n",
       "      <td>0.000000</td>\n",
       "      <td>1.000000</td>\n",
       "    </tr>\n",
       "    <tr>\n",
       "      <th>50%</th>\n",
       "      <td>10000.000000</td>\n",
       "      <td>9750.000000</td>\n",
       "      <td>9000.000000</td>\n",
       "      <td>36.000000</td>\n",
       "      <td>11.860000</td>\n",
       "      <td>280.620000</td>\n",
       "      <td>5.919600e+04</td>\n",
       "      <td>13.450000</td>\n",
       "      <td>0.00000</td>\n",
       "      <td>1.000000</td>\n",
       "      <td>9.000000</td>\n",
       "      <td>49.500000</td>\n",
       "      <td>9497.090000</td>\n",
       "      <td>0.000000</td>\n",
       "      <td>0.000000</td>\n",
       "      <td>0.000000</td>\n",
       "      <td>1.000000</td>\n",
       "    </tr>\n",
       "    <tr>\n",
       "      <th>75%</th>\n",
       "      <td>15000.000000</td>\n",
       "      <td>15000.000000</td>\n",
       "      <td>14500.000000</td>\n",
       "      <td>60.000000</td>\n",
       "      <td>14.610000</td>\n",
       "      <td>431.200000</td>\n",
       "      <td>8.250000e+04</td>\n",
       "      <td>18.635000</td>\n",
       "      <td>0.00000</td>\n",
       "      <td>1.000000</td>\n",
       "      <td>12.000000</td>\n",
       "      <td>72.500000</td>\n",
       "      <td>16072.365000</td>\n",
       "      <td>0.000000</td>\n",
       "      <td>1.000000</td>\n",
       "      <td>1.000000</td>\n",
       "      <td>1.000000</td>\n",
       "    </tr>\n",
       "    <tr>\n",
       "      <th>max</th>\n",
       "      <td>35000.000000</td>\n",
       "      <td>35000.000000</td>\n",
       "      <td>35000.000000</td>\n",
       "      <td>60.000000</td>\n",
       "      <td>24.590000</td>\n",
       "      <td>1305.190000</td>\n",
       "      <td>6.000000e+06</td>\n",
       "      <td>29.990000</td>\n",
       "      <td>11.00000</td>\n",
       "      <td>8.000000</td>\n",
       "      <td>44.000000</td>\n",
       "      <td>99.900000</td>\n",
       "      <td>58563.680000</td>\n",
       "      <td>2.000000</td>\n",
       "      <td>1.000000</td>\n",
       "      <td>1.000000</td>\n",
       "      <td>1.000000</td>\n",
       "    </tr>\n",
       "  </tbody>\n",
       "</table>\n",
       "</div>"
      ],
      "text/plain": [
       "          loan_amnt   funded_amnt  funded_amnt_inv          term  \\\n",
       "count  39023.000000  39023.000000     39023.000000  39023.000000   \n",
       "mean   11259.748097  10984.679548     10559.036469     42.562899   \n",
       "std     7478.951411   7206.436232      7110.053430     10.697704   \n",
       "min      500.000000    500.000000         0.000000     36.000000   \n",
       "25%     5500.000000   5462.500000      5000.000000     36.000000   \n",
       "50%    10000.000000   9750.000000      9000.000000     36.000000   \n",
       "75%    15000.000000  15000.000000     14500.000000     60.000000   \n",
       "max    35000.000000  35000.000000     35000.000000     60.000000   \n",
       "\n",
       "           int_rate   installment    annual_inc           dti  delinq_2yrs  \\\n",
       "count  39023.000000  39023.000000  3.902300e+04  39023.000000  39023.00000   \n",
       "mean      12.046209    324.956089  6.899929e+04     13.366081      0.14553   \n",
       "std        3.744015    208.910806  6.312983e+04      6.668654      0.49014   \n",
       "min        5.420000     16.080000  4.000000e+03      0.000000      0.00000   \n",
       "25%        9.250000    167.340000  4.080000e+04      8.240000      0.00000   \n",
       "50%       11.860000    280.620000  5.919600e+04     13.450000      0.00000   \n",
       "75%       14.610000    431.200000  8.250000e+04     18.635000      0.00000   \n",
       "max       24.590000   1305.190000  6.000000e+06     29.990000     11.00000   \n",
       "\n",
       "       inq_last_6mths      open_acc    revol_util  total_pymnt_inv  \\\n",
       "count    39023.000000  39023.000000  39023.000000     39023.000000   \n",
       "mean         0.866540      9.298132     48.973526     11811.405997   \n",
       "std          1.067322      4.380918     28.310206      9056.647014   \n",
       "min          0.000000      2.000000      0.000000         0.000000   \n",
       "25%          0.000000      6.000000     25.550000      5313.715000   \n",
       "50%          1.000000      9.000000     49.500000      9497.090000   \n",
       "75%          1.000000     12.000000     72.500000     16072.365000   \n",
       "max          8.000000     44.000000     99.900000     58563.680000   \n",
       "\n",
       "       pub_rec_bankruptcies  Source Verified      Verified    Fully Paid  \n",
       "count          39023.000000     39023.000000  39023.000000  39023.000000  \n",
       "mean               0.043308         0.256234      0.328652      0.858340  \n",
       "std                0.204431         0.436558      0.469729      0.348706  \n",
       "min                0.000000         0.000000      0.000000      0.000000  \n",
       "25%                0.000000         0.000000      0.000000      1.000000  \n",
       "50%                0.000000         0.000000      0.000000      1.000000  \n",
       "75%                0.000000         1.000000      1.000000      1.000000  \n",
       "max                2.000000         1.000000      1.000000      1.000000  "
      ]
     },
     "execution_count": 41,
     "metadata": {},
     "output_type": "execute_result"
    }
   ],
   "source": [
    "loan_data.describe()"
   ]
  },
  {
   "cell_type": "code",
   "execution_count": 44,
   "metadata": {
    "collapsed": false
   },
   "outputs": [],
   "source": [
    "from sklearn.cross_validation import train_test_split"
   ]
  },
  {
   "cell_type": "code",
   "execution_count": 75,
   "metadata": {
    "collapsed": true
   },
   "outputs": [],
   "source": [
    "X_train, X_test, y_train, y_test = train_test_split(loan_data.drop('Fully Paid',axis=1), \n",
    "                                                    loan_data['Fully Paid'], test_size=0.4, \n",
    "                                                    random_state=101)"
   ]
  },
  {
   "cell_type": "code",
   "execution_count": null,
   "metadata": {
    "collapsed": true
   },
   "outputs": [],
   "source": []
  },
  {
   "cell_type": "code",
   "execution_count": 76,
   "metadata": {
    "collapsed": true
   },
   "outputs": [],
   "source": [
    "from sklearn.linear_model import LogisticRegression"
   ]
  },
  {
   "cell_type": "code",
   "execution_count": 77,
   "metadata": {
    "collapsed": false
   },
   "outputs": [
    {
     "data": {
      "text/plain": [
       "LogisticRegression(C=1.0, class_weight=None, dual=False, fit_intercept=True,\n",
       "          intercept_scaling=1, max_iter=100, multi_class='ovr', n_jobs=1,\n",
       "          penalty='l2', random_state=None, solver='liblinear', tol=0.0001,\n",
       "          verbose=0, warm_start=False)"
      ]
     },
     "execution_count": 77,
     "metadata": {},
     "output_type": "execute_result"
    }
   ],
   "source": [
    "logmodel = LogisticRegression()\n",
    "logmodel.fit(X_train,y_train)"
   ]
  },
  {
   "cell_type": "code",
   "execution_count": 78,
   "metadata": {
    "collapsed": true
   },
   "outputs": [],
   "source": [
    "predictions = logmodel.predict(X_test)"
   ]
  },
  {
   "cell_type": "code",
   "execution_count": 79,
   "metadata": {
    "collapsed": true
   },
   "outputs": [],
   "source": [
    "from sklearn.metrics import classification_report, confusion_matrix"
   ]
  },
  {
   "cell_type": "code",
   "execution_count": 80,
   "metadata": {
    "collapsed": false
   },
   "outputs": [
    {
     "name": "stdout",
     "output_type": "stream",
     "text": [
      "             precision    recall  f1-score   support\n",
      "\n",
      "        0.0       0.97      0.77      0.86      2121\n",
      "        1.0       0.96      1.00      0.98     13489\n",
      "\n",
      "avg / total       0.97      0.97      0.96     15610\n",
      "\n"
     ]
    }
   ],
   "source": [
    "print(classification_report(y_test,predictions))"
   ]
  },
  {
   "cell_type": "code",
   "execution_count": null,
   "metadata": {
    "collapsed": true
   },
   "outputs": [],
   "source": []
  },
  {
   "cell_type": "code",
   "execution_count": 81,
   "metadata": {
    "collapsed": true
   },
   "outputs": [],
   "source": [
    "from sklearn.tree import DecisionTreeClassifier "
   ]
  },
  {
   "cell_type": "code",
   "execution_count": 82,
   "metadata": {
    "collapsed": true
   },
   "outputs": [],
   "source": [
    "dtree = DecisionTreeClassifier()"
   ]
  },
  {
   "cell_type": "code",
   "execution_count": 83,
   "metadata": {
    "collapsed": false
   },
   "outputs": [
    {
     "data": {
      "text/plain": [
       "DecisionTreeClassifier(class_weight=None, criterion='gini', max_depth=None,\n",
       "            max_features=None, max_leaf_nodes=None, min_samples_leaf=1,\n",
       "            min_samples_split=2, min_weight_fraction_leaf=0.0,\n",
       "            presort=False, random_state=None, splitter='best')"
      ]
     },
     "execution_count": 83,
     "metadata": {},
     "output_type": "execute_result"
    }
   ],
   "source": [
    "dtree.fit(X_train,y_train)"
   ]
  },
  {
   "cell_type": "code",
   "execution_count": 84,
   "metadata": {
    "collapsed": true
   },
   "outputs": [],
   "source": [
    "predictions = dtree.predict(X_test)"
   ]
  },
  {
   "cell_type": "code",
   "execution_count": 85,
   "metadata": {
    "collapsed": false
   },
   "outputs": [
    {
     "name": "stdout",
     "output_type": "stream",
     "text": [
      "             precision    recall  f1-score   support\n",
      "\n",
      "        0.0       0.82      0.83      0.82      2121\n",
      "        1.0       0.97      0.97      0.97     13489\n",
      "\n",
      "avg / total       0.95      0.95      0.95     15610\n",
      "\n"
     ]
    }
   ],
   "source": [
    "print(classification_report(y_test,predictions))"
   ]
  },
  {
   "cell_type": "code",
   "execution_count": 86,
   "metadata": {
    "collapsed": true
   },
   "outputs": [],
   "source": [
    "from sklearn import svm"
   ]
  },
  {
   "cell_type": "code",
   "execution_count": 87,
   "metadata": {
    "collapsed": true
   },
   "outputs": [],
   "source": [
    "lin_svc = svm.LinearSVC(random_state=101)"
   ]
  },
  {
   "cell_type": "code",
   "execution_count": 88,
   "metadata": {
    "collapsed": false
   },
   "outputs": [
    {
     "data": {
      "text/plain": [
       "LinearSVC(C=1.0, class_weight=None, dual=True, fit_intercept=True,\n",
       "     intercept_scaling=1, loss='squared_hinge', max_iter=1000,\n",
       "     multi_class='ovr', penalty='l2', random_state=101, tol=0.0001,\n",
       "     verbose=0)"
      ]
     },
     "execution_count": 88,
     "metadata": {},
     "output_type": "execute_result"
    }
   ],
   "source": [
    "lin_svc.fit(X_train, y_train)"
   ]
  },
  {
   "cell_type": "code",
   "execution_count": 89,
   "metadata": {
    "collapsed": true
   },
   "outputs": [],
   "source": [
    "predictions = lin_svc.predict(X_test)"
   ]
  },
  {
   "cell_type": "code",
   "execution_count": 90,
   "metadata": {
    "collapsed": false
   },
   "outputs": [
    {
     "name": "stdout",
     "output_type": "stream",
     "text": [
      "             precision    recall  f1-score   support\n",
      "\n",
      "        0.0       0.99      0.71      0.82      2121\n",
      "        1.0       0.96      1.00      0.98     13489\n",
      "\n",
      "avg / total       0.96      0.96      0.96     15610\n",
      "\n"
     ]
    }
   ],
   "source": [
    "print(classification_report(y_test,predictions))"
   ]
  },
  {
   "cell_type": "code",
   "execution_count": 91,
   "metadata": {
    "collapsed": false
   },
   "outputs": [
    {
     "data": {
      "text/plain": [
       "array([[ 1501,   620],\n",
       "       [   22, 13467]])"
      ]
     },
     "execution_count": 91,
     "metadata": {},
     "output_type": "execute_result"
    }
   ],
   "source": [
    "confusion_matrix(y_test,predictions)"
   ]
  },
  {
   "cell_type": "code",
   "execution_count": null,
   "metadata": {
    "collapsed": true
   },
   "outputs": [],
   "source": []
  },
  {
   "cell_type": "code",
   "execution_count": 92,
   "metadata": {
    "collapsed": true
   },
   "outputs": [],
   "source": [
    "from sklearn.ensemble import RandomForestClassifier"
   ]
  },
  {
   "cell_type": "code",
   "execution_count": 93,
   "metadata": {
    "collapsed": true
   },
   "outputs": [],
   "source": [
    "rfc = RandomForestClassifier(n_estimators=200)"
   ]
  },
  {
   "cell_type": "code",
   "execution_count": 94,
   "metadata": {
    "collapsed": false
   },
   "outputs": [
    {
     "data": {
      "text/plain": [
       "RandomForestClassifier(bootstrap=True, class_weight=None, criterion='gini',\n",
       "            max_depth=None, max_features='auto', max_leaf_nodes=None,\n",
       "            min_samples_leaf=1, min_samples_split=2,\n",
       "            min_weight_fraction_leaf=0.0, n_estimators=200, n_jobs=1,\n",
       "            oob_score=False, random_state=None, verbose=0,\n",
       "            warm_start=False)"
      ]
     },
     "execution_count": 94,
     "metadata": {},
     "output_type": "execute_result"
    }
   ],
   "source": [
    "rfc.fit(X_train,y_train)"
   ]
  },
  {
   "cell_type": "code",
   "execution_count": 95,
   "metadata": {
    "collapsed": true
   },
   "outputs": [],
   "source": [
    "predictions = rfc.predict(X_test)"
   ]
  },
  {
   "cell_type": "code",
   "execution_count": 96,
   "metadata": {
    "collapsed": false
   },
   "outputs": [
    {
     "name": "stdout",
     "output_type": "stream",
     "text": [
      "             precision    recall  f1-score   support\n",
      "\n",
      "        0.0       0.99      0.75      0.85      2121\n",
      "        1.0       0.96      1.00      0.98     13489\n",
      "\n",
      "avg / total       0.97      0.96      0.96     15610\n",
      "\n"
     ]
    }
   ],
   "source": [
    "print(classification_report(y_test,predictions))"
   ]
  },
  {
   "cell_type": "code",
   "execution_count": 74,
   "metadata": {
    "collapsed": false
   },
   "outputs": [
    {
     "data": {
      "text/plain": [
       "array([[ 1402,   438],\n",
       "       [    7, 11812]])"
      ]
     },
     "execution_count": 74,
     "metadata": {},
     "output_type": "execute_result"
    }
   ],
   "source": [
    "confusion_matrix(y_test,predictions)"
   ]
  },
  {
   "cell_type": "code",
   "execution_count": null,
   "metadata": {
    "collapsed": true
   },
   "outputs": [],
   "source": []
  }
 ],
 "metadata": {
  "anaconda-cloud": {},
  "kernelspec": {
   "display_name": "Python [Root]",
   "language": "python",
   "name": "Python [Root]"
  },
  "language_info": {
   "codemirror_mode": {
    "name": "ipython",
    "version": 2
   },
   "file_extension": ".py",
   "mimetype": "text/x-python",
   "name": "python",
   "nbconvert_exporter": "python",
   "pygments_lexer": "ipython2",
   "version": "2.7.13"
  }
 },
 "nbformat": 4,
 "nbformat_minor": 0
}
